{
 "cells": [
  {
   "cell_type": "markdown",
   "metadata": {},
   "source": [
    "## Artificial Intelligence Assignment 3\n",
    "## No2. Classification Learning\n",
    "## 20132651 Sungjae Lee"
   ]
  },
  {
   "cell_type": "code",
   "execution_count": 1,
   "metadata": {},
   "outputs": [],
   "source": [
    "## 1번 문제에서의 신경망을 활용하여, 사진을 분류하는 분류기를 생성해 봅니다.\n",
    "## 1.정규화된 CIFAR-10 훈련집합과 테스트집합을 torchvision을 이용하여 적재합니다.\n",
    "\n",
    "import torch\n",
    "import torchvision\n",
    "import torchvision.transforms as transforms"
   ]
  },
  {
   "cell_type": "code",
   "execution_count": 2,
   "metadata": {},
   "outputs": [],
   "source": [
    "## torchvision.transform 을 이용하여 사진 데이터를 변형합니다.\n",
    "## Tensor 데이터로 변환하고, 각 채널에 대해 Normalize 하는 설정을 transform 변수에 저장합니다.\n",
    "\n",
    "transform = transforms.Compose([transforms.ToTensor(),\n",
    "                                transforms.Normalize((0.5, 0.5, 0.5),(0.5, 0.5, 0.5))])\n"
   ]
  },
  {
   "cell_type": "code",
   "execution_count": 3,
   "metadata": {},
   "outputs": [
    {
     "name": "stdout",
     "output_type": "stream",
     "text": [
      "Files already downloaded and verified\n"
     ]
    }
   ],
   "source": [
    "## 위의 설정을 토대로 CIFAR-10 이미지 데이터를 가져옵니다.\n",
    "## train = True 로 학습 데이터만 가져오며, 데이터가 없다면 다운로드 받습니다.\n",
    "## trainloader 에 배치 사이즈를 4로 하여 데이터를 나누어 넣습니다.\n",
    "## num_workers 는 데이터를 로드할 때 몇개의 서브 프로세스들을 사용할 것인지에 대한 설정입니다.\n",
    "\n",
    "trainset = torchvision.datasets.CIFAR10(root='./data',\n",
    "                                        train=True,\n",
    "                                        download=True,\n",
    "                                        transform=transform)\n",
    "trainloader = torch.utils.data.DataLoader(trainset,\n",
    "                                          batch_size=4,\n",
    "                                          shuffle=False,\n",
    "                                          num_workers=2)"
   ]
  },
  {
   "cell_type": "code",
   "execution_count": 4,
   "metadata": {},
   "outputs": [
    {
     "name": "stdout",
     "output_type": "stream",
     "text": [
      "Files already downloaded and verified\n"
     ]
    }
   ],
   "source": [
    "## 위의 학습 데이터를 가져올 때와 마찬가지로 테스트 데이터를 가져옵니다.\n",
    "## 동일한 방법과 설정으로 테스트 데이터에 대한 데이터로더를 생성합니다.\n",
    "\n",
    "testset = torchvision.datasets.CIFAR10(root='./data',\n",
    "                                       train=False,\n",
    "                                       download=True,\n",
    "                                       transform=transform)\n",
    "testloader = torch.utils.data.DataLoader(testset,\n",
    "                                         batch_size=4,\n",
    "                                         shuffle=False,\n",
    "                                         num_workers=2)"
   ]
  },
  {
   "cell_type": "code",
   "execution_count": 5,
   "metadata": {},
   "outputs": [],
   "source": [
    "## CIFAR-10 에서 순서대로 정의된 10개의 레이블을 단어 형태로 작성하여 classes 변수에 넣습니다.\n",
    "## 레이블을 단어 형태로 출력하기 위해서는 classes 변수에서 꺼내와 사용하게 됩니다.\n",
    "\n",
    "classes = ('plane', 'car', 'bird', 'cat', 'deer', 'dog', 'frog', 'horse', 'ship', 'truck')"
   ]
  },
  {
   "cell_type": "markdown",
   "metadata": {},
   "source": [
    "### (1) 화면 출력 확인"
   ]
  },
  {
   "cell_type": "code",
   "execution_count": 6,
   "metadata": {},
   "outputs": [
    {
     "name": "stdout",
     "output_type": "stream",
     "text": [
      "('plane', 'car', 'bird', 'cat', 'deer', 'dog', 'frog', 'horse', 'ship', 'truck')\n"
     ]
    }
   ],
   "source": [
    "## 실제 레이블 단어들인 classes가 정상적으로 저장되었는지 출력합니다.\n",
    "\n",
    "print(classes)"
   ]
  },
  {
   "cell_type": "code",
   "execution_count": 7,
   "metadata": {},
   "outputs": [],
   "source": [
    "## 훈련집합의 일부 사진들을 확인하기 위해 matplotlib 패키지를 가져옵니다.\n",
    "\n",
    "import matplotlib.pyplot as plt\n",
    "import numpy as np"
   ]
  },
  {
   "cell_type": "code",
   "execution_count": 8,
   "metadata": {},
   "outputs": [],
   "source": [
    "## 이미지를 출력하기 위한 함수인 imshow 를 정의합니다.\n",
    "## 위에서 normalize 했던 이미지를 다시 unnormalize 한 다음, numpy 형태로 변환합니다.\n",
    "## 이미지가 회전된 상태이기 때문에, 정상적으로 볼 수 있도록 np.transpose 로 회전시킵니다.\n",
    "\n",
    "def imshow(img):\n",
    "    img = img / 2 + 0.5 # unnormalize\n",
    "    npimg = img.numpy()\n",
    "    plt.imshow(np.transpose(npimg, (1, 2, 0)))"
   ]
  },
  {
   "cell_type": "code",
   "execution_count": 9,
   "metadata": {},
   "outputs": [
    {
     "name": "stdout",
     "output_type": "stream",
     "text": [
      "4\n",
      "tensor([6, 9, 9, 4])\n"
     ]
    }
   ],
   "source": [
    "## iter를 사용하여 trainloader 에서 1개 배치인 4개의 이미지를 가져와 images 와 labels 에 저장합니다.\n",
    "## 개수를 확인해 보니 4개의 이미지가 맞으며, labels 에는 각 이미지의 레이블이 번호 형태로 저장되어 있었습니다.\n",
    "\n",
    "dataiter = iter(trainloader)\n",
    "images, labels = dataiter.next()\n",
    "print(len(images))\n",
    "print(labels)"
   ]
  },
  {
   "cell_type": "markdown",
   "metadata": {},
   "source": [
    "### (2) 화면 출력 확인"
   ]
  },
  {
   "cell_type": "code",
   "execution_count": 10,
   "metadata": {},
   "outputs": [
    {
     "name": "stdout",
     "output_type": "stream",
     "text": [
      "     frog    /    truck    /    truck    /     deer\n"
     ]
    },
    {
     "data": {
      "image/png": "[encoded data removed]",
      "text/plain": [
       "<Figure size 432x288 with 1 Axes>"
      ]
     },
     "metadata": {},
     "output_type": "display_data"
    }
   ],
   "source": [
    "## 위에서 정의한 imshow 함수를 이용하여 뽑아낸 4개의 이미지를 출력합니다.\n",
    "## 이 때 torchvision 의 make_grid 를 사용하여 이미지를 그리드 형태로 출력합니다.\n",
    "## 이미지의 레이블을 classes 에서 찾아와 단어 형태로 출력합니다.\n",
    "\n",
    "imshow(torchvision.utils.make_grid(images))\n",
    "print('    ' + '    /    '.join('%5s' % classes[labels[j]] for j in range(4)))"
   ]
  },
  {
   "cell_type": "code",
   "execution_count": 11,
   "metadata": {},
   "outputs": [],
   "source": [
    "## 2. 컨볼루션 신경망을 정의합니다.\n",
    "## 3채널 32 * 32 크기의 사진을 입력받아, 신경망을 통과해 10개 class 로 분류를 수행하는 신경망입니다."
   ]
  },
  {
   "cell_type": "code",
   "execution_count": 12,
   "metadata": {},
   "outputs": [],
   "source": [
    "import torch.nn as nn\n",
    "import torch.nn.functional as F"
   ]
  },
  {
   "cell_type": "code",
   "execution_count": 13,
   "metadata": {},
   "outputs": [],
   "source": [
    "## 1번 문제에서와 완전히 동일한 형태의 신경망을 생성합니다.\n",
    "## conv1 > relu > pooling > conv2 > relu > pooling > view\n",
    "## > fc1 > relu > fc2 > relu > fc3 > 10개 클래스 분류의 형태입니다.\n",
    "\n",
    "class Net(nn.Module):\n",
    "    def __init__(self):\n",
    "        super(Net, self).__init__()\n",
    "        self.conv1 = nn.Conv2d(3, 6, 5)\n",
    "        self.pool = nn.MaxPool2d(2, 2)\n",
    "        self.conv2 = nn.Conv2d(6, 16, 5)\n",
    "        self.fc1 = nn.Linear(16 * 5 * 5, 120)\n",
    "        self.fc2 = nn.Linear(120, 84)\n",
    "        self.fc3 = nn.Linear(84, 10)\n",
    "\n",
    "    def forward(self, x):\n",
    "        x = self.pool(F.relu(self.conv1(x)))\n",
    "        x = self.pool(F.relu(self.conv2(x)))\n",
    "        x = x.view(-1, 16 * 5 * 5)\n",
    "        x = F.relu(self.fc1(x))\n",
    "        x = F.relu(self.fc2(x))\n",
    "        x = self.fc3(x)\n",
    "        return x\n",
    "\n",
    "net = Net()"
   ]
  },
  {
   "cell_type": "code",
   "execution_count": 14,
   "metadata": {},
   "outputs": [],
   "source": [
    "## 3. 손실함수를 정의하고, 교차 엔트로피와 SGD, momentum 을 사용해 봅니다."
   ]
  },
  {
   "cell_type": "code",
   "execution_count": 15,
   "metadata": {},
   "outputs": [],
   "source": [
    "## 손실함수를 pytorch.nn 의 CrossEntropyLoss 를 이용하여 정의내립니다.\n",
    "## optimizer 는 앞에서와 마찬가지로 optim 의 스토캐스틱 경사하강을 사용합니다.\n",
    "\n",
    "import torch.optim as optim\n",
    "\n",
    "criterion = nn.CrossEntropyLoss()\n",
    "optimizer = optim.SGD(net.parameters(), lr=0.001, momentum=0.9)"
   ]
  },
  {
   "cell_type": "markdown",
   "metadata": {},
   "source": [
    "### (3) 화면 출력 확인 및 학습이 되고 있는지 서술"
   ]
  },
  {
   "cell_type": "code",
   "execution_count": 16,
   "metadata": {},
   "outputs": [],
   "source": [
    "## 4. 훈련집합을 이용하여 신경망을 학습시킵니다."
   ]
  },
  {
   "cell_type": "code",
   "execution_count": 17,
   "metadata": {},
   "outputs": [
    {
     "name": "stdout",
     "output_type": "stream",
     "text": [
      "[1,  1000] loss : 2.299\n",
      "[1,  2000] loss : 2.130\n",
      "[1,  3000] loss : 1.919\n",
      "[1,  4000] loss : 1.788\n",
      "[1,  5000] loss : 1.687\n",
      "[1,  6000] loss : 1.609\n",
      "[1,  7000] loss : 1.561\n",
      "[1,  8000] loss : 1.533\n",
      "[1,  9000] loss : 1.548\n",
      "[1, 10000] loss : 1.498\n",
      "[1, 11000] loss : 1.469\n",
      "[1, 12000] loss : 1.437\n",
      "[2,  1000] loss : 1.412\n",
      "[2,  2000] loss : 1.387\n",
      "[2,  3000] loss : 1.379\n",
      "[2,  4000] loss : 1.385\n",
      "[2,  5000] loss : 1.335\n",
      "[2,  6000] loss : 1.322\n",
      "[2,  7000] loss : 1.281\n",
      "[2,  8000] loss : 1.271\n",
      "[2,  9000] loss : 1.325\n",
      "[2, 10000] loss : 1.281\n",
      "[2, 11000] loss : 1.280\n",
      "[2, 12000] loss : 1.226\n",
      "Finished Training\n"
     ]
    }
   ],
   "source": [
    "## 2번의 epoch 동안 학습을 진행합니다. 이 때 running loss 를 1000개 데이터 단위로 합산하여 출력합니다.\n",
    "\n",
    "for epoch in range(2):\n",
    "    running_loss = 0.0\n",
    "    \n",
    "    ## trainloader 에서 index 와 data 를 뽑아내어 학습을 진행합니다.\n",
    "    for i, data in enumerate(trainloader, 0):\n",
    "        \n",
    "        # data 에서 feature 와 labels 를 나눠 저장합니다.\n",
    "        inputs, labels = data\n",
    "        \n",
    "        # optimizer 의 가중치를 0으로 초기화 합니다.\n",
    "        optimizer.zero_grad()\n",
    "        \n",
    "        ## forward(전방전파) + backward(역전파) + optimize(최적화) 과정입니다. \n",
    "        outputs = net(inputs)\n",
    "        loss = criterion(outputs, labels)\n",
    "        loss.backward()\n",
    "        optimizer.step()\n",
    "        \n",
    "        # 1000개 데이터 단위로 끊어서 loss의 합산을 출력합니다.\n",
    "        running_loss += loss.item()\n",
    "        if i % 1000 == 999:\n",
    "            print('[%d, %5d] loss : %.3f' %\n",
    "                  (epoch + 1, i + 1, running_loss / 1000))\n",
    "            running_loss = 0.0\n",
    "\n",
    "print('Finished Training')\n",
    "\n",
    "## 1번째 epoch 에서는 loss가 2점대 초반에서 1점대 중반으로 감소하였습니다.\n",
    "## 2번째 epoch 에서는 1번째에 이어서 loss가 1점대 중반에서 1점대 초반으로 감소하였습니다.\n",
    "## 약간 더딘 속도이긴 하지만 loss 가 꾸준히 줄어드는 것으로 보아 학습의 방향은 적절하다고 할 수 있습니다."
   ]
  },
  {
   "cell_type": "code",
   "execution_count": 18,
   "metadata": {},
   "outputs": [],
   "source": [
    "## 5. 테스트 집합을 이용하여 신경망 성능을 확인합니다."
   ]
  },
  {
   "cell_type": "code",
   "execution_count": 19,
   "metadata": {},
   "outputs": [],
   "source": [
    "## testloader 에서 1개 배치 이미지들을 뽑아내어 출력해 봅니다.\n",
    "\n",
    "dataiter = iter(testloader)\n",
    "images, labels = dataiter.next()"
   ]
  },
  {
   "cell_type": "markdown",
   "metadata": {},
   "source": [
    "### (4) 화면 출력 확인"
   ]
  },
  {
   "cell_type": "code",
   "execution_count": 20,
   "metadata": {},
   "outputs": [
    {
     "name": "stdout",
     "output_type": "stream",
     "text": [
      "GroundTruth:    cat    /     ship    /     ship    /    plane\n"
     ]
    },
    {
     "data": {
      "image/png": "[encoded data removed]",
      "text/plain": [
       "<Figure size 432x288 with 1 Axes>"
      ]
     },
     "metadata": {},
     "output_type": "display_data"
    }
   ],
   "source": [
    "## 앞에서 사용했던 imshow 함수를 이용하여 뽑아낸 테스트 집합의 사진들을 출력해 봅니다.\n",
    "\n",
    "imshow(torchvision.utils.make_grid(images))\n",
    "print('GroundTruth: ','    /    '.join('%5s'% classes[labels[j]] for j in range(4)))"
   ]
  },
  {
   "cell_type": "markdown",
   "metadata": {},
   "source": [
    "### (5) 화면 출력 확인"
   ]
  },
  {
   "cell_type": "code",
   "execution_count": 21,
   "metadata": {},
   "outputs": [
    {
     "name": "stdout",
     "output_type": "stream",
     "text": [
      "Predicted:    cat    /     ship    /     ship    /    plane\n"
     ]
    }
   ],
   "source": [
    "## CNN 을 통해 해당 이미지들을 분류한 결과를 output에 저장합니다.\n",
    "## 그 다음, 위에서 알아본 이미지의 레이블들과 적절하게 매치되는지 확인합니다.\n",
    "\n",
    "outputs = net(images)\n",
    "_, predicted = torch.max(outputs, 1)\n",
    "print('Predicted: ','    /    '.join('%5s'% classes[predicted[j]] for j in range(4)))"
   ]
  },
  {
   "cell_type": "markdown",
   "metadata": {},
   "source": [
    "### (6) 화면 출력 확인 및 일반화 성능 서술"
   ]
  },
  {
   "cell_type": "code",
   "execution_count": 22,
   "metadata": {},
   "outputs": [
    {
     "name": "stdout",
     "output_type": "stream",
     "text": [
      "Accuracy of the network on the 10000 test images :55 %\n"
     ]
    }
   ],
   "source": [
    "## 일부 데이터셋이 아닌 모든 테스트 데이터셋에 대해 예측을 진행합니다.\n",
    "## 레이블을 맞게 예측한 데이터가 몇 개인지 세기 위해 correct 변수를 0부터 계산합니다.\n",
    "## 전체 데이터의 개수는 total 변수로 0부터 계산합니다.\n",
    "## predict한 레이블과 실제 label이 동일한 개수를 세어 correct 에 저장합니다.\n",
    "## accuracy 는 correct / total 로 계산합니다.\n",
    "\n",
    "correct = 0\n",
    "total = 0\n",
    "with torch.no_grad():\n",
    "    for data in testloader:\n",
    "        images, labels = data\n",
    "        outputs = net(images)\n",
    "        _, predicted = torch.max(outputs.data, 1)\n",
    "        total += labels.size(0)\n",
    "        correct += (predicted == labels).sum().item()\n",
    "print('Accuracy of the network on the 10000 test images :%d %%'%(100 * correct / total))\n",
    "\n",
    "## 여러 번 시행해본 결과 Accuracy는 50% ~ 60% 정도가 나타났습니다.\n",
    "## 테스트 데이터에서 상당히 낮은 Accuracy 가 나타나는 것으로 보아\n",
    "## 해당 모델의 일반화 성능이 좋지 못한 것으로 보입니다.\n",
    "## 이러한 모델의 일반화 성능을 높이기 위해서는 다양한 기법을 사용할 필요가 있습니다.     \n",
    "## 예를 들어 더 작은 커널을 깊게 쌓거나, 규제항을 생성하여 일반화 시키는 등의 것입니다."
   ]
  },
  {
   "cell_type": "code",
   "execution_count": 23,
   "metadata": {},
   "outputs": [],
   "source": [
    "## 각 클래스별 성능을 알아보기 위한 코드입니다.\n",
    "## class_correct 와 class_total 을 10개의 값을 갖는 리스트로 생성합니다.\n",
    "## 각 레이블별로 correct 수와 total 수를 위의 리스트에 저장합니다.\n",
    "\n",
    "class_correct = list(0. for i in range(10))\n",
    "class_total = list(0. for i in range(10))\n",
    "with torch.no_grad():\n",
    "    for data in testloader:\n",
    "        images, labels = data\n",
    "        outputs = net(images)\n",
    "        _, predicted = torch.max(outputs, 1)\n",
    "        c = (predicted == labels).squeeze()\n",
    "        for i in range(4):\n",
    "            label = labels[i]\n",
    "            class_correct[label] += c[i].item()\n",
    "            class_total[label] += 1"
   ]
  },
  {
   "cell_type": "markdown",
   "metadata": {},
   "source": [
    "### (7) 화면 출력 확인 및 부류별 분류기의 성능 서술"
   ]
  },
  {
   "cell_type": "code",
   "execution_count": 24,
   "metadata": {},
   "outputs": [
    {
     "name": "stdout",
     "output_type": "stream",
     "text": [
      "Accuracy of plane: 54 %\n",
      "Accuracy of   car: 74 %\n",
      "Accuracy of  bird: 34 %\n",
      "Accuracy of   cat: 47 %\n",
      "Accuracy of  deer: 51 %\n",
      "Accuracy of   dog: 36 %\n",
      "Accuracy of  frog: 58 %\n",
      "Accuracy of horse: 73 %\n",
      "Accuracy of  ship: 75 %\n",
      "Accuracy of truck: 51 %\n"
     ]
    }
   ],
   "source": [
    "## 각 레이블에 따른 Accuracy 를 출력합니다.\n",
    "## 높은 성능의 부류는 Ship, Horse, Car 이며\n",
    "## 낮은 성능의 부류는 Dog, Bird, Cat 입니다.\n",
    "## 각 부류가 어떤 기준으로 낮은 성능과 높은 성능을 갖는가에 대해서는 잘 모르겠습니다\n",
    "## (작은 개체, 큰 개체), (생물 개체, 무생물 개체), (털이 날리는 개체, 아닌 개체) 등\n",
    "\n",
    "for i in range(10):\n",
    "    print('Accuracy of %5s: %2d %%'%(classes[i], 100 * class_correct[i] / class_total[i]))"
   ]
  }
 ],
 "metadata": {
  "kernelspec": {
   "display_name": "Python 3",
   "language": "python",
   "name": "python3"
  },
  "language_info": {
   "codemirror_mode": {
    "name": "ipython",
    "version": 3
   },
   "file_extension": ".py",
   "mimetype": "text/x-python",
   "name": "python",
   "nbconvert_exporter": "python",
   "pygments_lexer": "ipython3",
   "version": "3.6.5"
  }
 },
 "nbformat": 4,
 "nbformat_minor": 2
}
