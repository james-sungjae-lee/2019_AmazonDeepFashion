{
 "cells": [
  {
   "cell_type": "markdown",
   "metadata": {},
   "source": [
    "## Artificial Intelligence Assignment 3\n",
    "## No3. CNN2 Adam Optimizer\n",
    "## 20132651 Sungjae Lee"
   ]
  },
  {
   "cell_type": "code",
   "execution_count": 1,
   "metadata": {},
   "outputs": [
    {
     "name": "stdout",
     "output_type": "stream",
     "text": [
      "Files already downloaded and verified\n",
      "Files already downloaded and verified\n"
     ]
    }
   ],
   "source": [
    "import torch\n",
    "import torchvision\n",
    "import torchvision.transforms as transforms\n",
    "transform = transforms.Compose([transforms.ToTensor(),\n",
    "                                transforms.Normalize((0.5, 0.5, 0.5),(0.5, 0.5, 0.5))])\n",
    "trainset = torchvision.datasets.CIFAR10(root='./data',\n",
    "                                        train=True,\n",
    "                                        download=True,\n",
    "                                        transform=transform)\n",
    "trainloader = torch.utils.data.DataLoader(trainset,\n",
    "                                          batch_size=4,\n",
    "                                          shuffle=False,\n",
    "                                          num_workers=2)\n",
    "testset = torchvision.datasets.CIFAR10(root='./data',\n",
    "                                       train=False,\n",
    "                                       download=True,\n",
    "                                       transform=transform)\n",
    "testloader = torch.utils.data.DataLoader(testset,\n",
    "                                         batch_size=4,\n",
    "                                         shuffle=False,\n",
    "                                         num_workers=2)\n",
    "classes = ('plane', 'car', 'bird', 'cat', 'deer', 'dog', 'frog', 'horse', 'ship', 'truck')"
   ]
  },
  {
   "cell_type": "code",
   "execution_count": 2,
   "metadata": {},
   "outputs": [],
   "source": [
    "import torch.nn as nn\n",
    "import torch.nn.functional as F\n",
    "\n",
    "class Net(nn.Module):\n",
    "    def __init__(self):\n",
    "        super(Net, self).__init__()\n",
    "        self.conv1 = nn.Conv2d(3, 6, 5)\n",
    "        self.pool = nn.MaxPool2d(2, 2)\n",
    "        self.conv2 = nn.Conv2d(6, 16, 5)\n",
    "        self.fc1 = nn.Linear(16 * 5 * 5, 120)\n",
    "        self.fc2 = nn.Linear(120, 84)\n",
    "        self.fc3 = nn.Linear(84, 10)\n",
    "\n",
    "    def forward(self, x):\n",
    "        x = self.pool(F.relu(self.conv1(x)))\n",
    "        x = self.pool(F.relu(self.conv2(x)))\n",
    "        x = x.view(-1, 16 * 5 * 5)\n",
    "        x = F.relu(self.fc1(x))\n",
    "        x = F.relu(self.fc2(x))\n",
    "        x = self.fc3(x)\n",
    "        return x\n",
    "\n",
    "net = Net()"
   ]
  },
  {
   "cell_type": "code",
   "execution_count": 3,
   "metadata": {},
   "outputs": [],
   "source": [
    "## Adam optimizer 를 강의자료대로 학습률 1e-03, 모멘텀 계수 0.9, 가중 이동 평균 계수 0.999를 사용하였습니다.\n",
    "## 하지만 이 값들 모두 Adam optimizer 의 기본 값과 동일하므로, 작성하지 않아도 괜찮습니다.\n",
    "\n",
    "import torch.optim as optim\n",
    "\n",
    "criterion = nn.CrossEntropyLoss()\n",
    "optimizer = optim.Adam(net.parameters(), lr = 1e-03, betas = (0.9, 0.999))"
   ]
  },
  {
   "cell_type": "markdown",
   "metadata": {},
   "source": [
    "### (3) 화면 출력 확인 및 학습이 되고 있는지 서술"
   ]
  },
  {
   "cell_type": "code",
   "execution_count": 4,
   "metadata": {
    "scrolled": false
   },
   "outputs": [
    {
     "name": "stdout",
     "output_type": "stream",
     "text": [
      "[1,  1000] loss : 2.013\n",
      "[1,  2000] loss : 1.730\n",
      "[1,  3000] loss : 1.649\n",
      "[1,  4000] loss : 1.594\n",
      "[1,  5000] loss : 1.511\n",
      "[1,  6000] loss : 1.470\n",
      "[1,  7000] loss : 1.420\n",
      "[1,  8000] loss : 1.418\n",
      "[1,  9000] loss : 1.445\n",
      "[1, 10000] loss : 1.401\n",
      "[1, 11000] loss : 1.377\n",
      "[1, 12000] loss : 1.348\n",
      "[2,  1000] loss : 1.311\n",
      "[2,  2000] loss : 1.298\n",
      "[2,  3000] loss : 1.284\n",
      "[2,  4000] loss : 1.284\n",
      "[2,  5000] loss : 1.253\n",
      "[2,  6000] loss : 1.244\n",
      "[2,  7000] loss : 1.236\n",
      "[2,  8000] loss : 1.231\n",
      "[2,  9000] loss : 1.267\n",
      "[2, 10000] loss : 1.215\n",
      "[2, 11000] loss : 1.205\n",
      "[2, 12000] loss : 1.197\n",
      "Finished Training\n"
     ]
    }
   ],
   "source": [
    "for epoch in range(2):\n",
    "    running_loss = 0.0\n",
    "\n",
    "    for i, data in enumerate(trainloader, 0):\n",
    "        inputs, labels = data\n",
    "        optimizer.zero_grad()\n",
    "        outputs = net(inputs)\n",
    "        loss = criterion(outputs, labels)\n",
    "        loss.backward()\n",
    "        optimizer.step()\n",
    "        \n",
    "        running_loss += loss.item()\n",
    "        if i % 1000 == 999:\n",
    "            print('[%d, %5d] loss : %.3f' %\n",
    "                  (epoch + 1, i + 1, running_loss / 1000))\n",
    "            running_loss = 0.0\n",
    "\n",
    "print('Finished Training')\n",
    "\n",
    "## 2번 문제에서의 loss 가 1.226 이었던데 반해 최종 loss 가 1.197 이라는 것은\n",
    "## Optimizer의 변경만을 통해 loss 를 크게 줄이기는 힘들다는 점을 보여줍니다.\n",
    "## 하지만 주목해서 볼 부분은 초반의 loss 변화가 2.013 -> 1.730 -> 1.649 로 급감했다는 점입니다.\n",
    "## 이전까지는 2.299 -> 2.130 -> 1.919 와 같이 매우 더디게 초반 학습이 진행되었던 점을 보면\n",
    "## loss 의 감소율이 매우 높은 것으로 보여지며, 이는 확실하게 Adam Optimizer 를 사용했기 때문입니다.\n",
    "\n",
    "## 학습의 진행은 loss가 2.013 부터 1.197 까지 꾸준히 감소하는 것으로 보아 적절하다고 볼 수 있습니다."
   ]
  },
  {
   "cell_type": "markdown",
   "metadata": {},
   "source": [
    "### (6) 화면 출력 확인 및 일반화 성능 서술"
   ]
  },
  {
   "cell_type": "code",
   "execution_count": 5,
   "metadata": {},
   "outputs": [
    {
     "name": "stdout",
     "output_type": "stream",
     "text": [
      "Accuracy of the network on the 10000 test images :55 %\n"
     ]
    }
   ],
   "source": [
    "correct = 0\n",
    "total = 0\n",
    "with torch.no_grad():\n",
    "    for data in testloader:\n",
    "        images, labels = data\n",
    "        outputs = net(images)\n",
    "        _, predicted = torch.max(outputs.data, 1)\n",
    "        total += labels.size(0)\n",
    "        correct += (predicted == labels).sum().item()\n",
    "print('Accuracy of the network on the 10000 test images :%d %%'%(100 * correct / total))\n",
    "\n",
    "## 2번 문제의 신경망과 동일한 55%의 정확도가 나타났습니다.\n",
    "## 이 점으로 미루어 보아 Optimizer 만을 변경했을 때 성능의 차이가 크게 나타나지는 않는 것 같습니다.\n",
    "## 그 이유를 간단하게 생각해 보면 현재 loss 가 아주 작아져 과적합된 상황이 아니기 때문에\n",
    "## Optimizer 를 통해 일반화 성능을 향상시키는 의미가 크게 없어서라고 생각됩니다.\n",
    "## Optimizer 를 통한 성능 향상을 확인하기 위해서는 epoch 를 크게 늘려서 과적합 가능성이 있는 상황을 구성해야겠습니다."
   ]
  },
  {
   "cell_type": "code",
   "execution_count": 6,
   "metadata": {},
   "outputs": [],
   "source": [
    "class_correct = list(0. for i in range(10))\n",
    "class_total = list(0. for i in range(10))\n",
    "with torch.no_grad():\n",
    "    for data in testloader:\n",
    "        images, labels = data\n",
    "        outputs = net(images)\n",
    "        _, predicted = torch.max(outputs, 1)\n",
    "        c = (predicted == labels).squeeze()\n",
    "        for i in range(4):\n",
    "            label = labels[i]\n",
    "            class_correct[label] += c[i].item()\n",
    "            class_total[label] += 1"
   ]
  },
  {
   "cell_type": "markdown",
   "metadata": {},
   "source": [
    "### (7) 화면 출력 확인 및 부류별 분류기의 성능 서술"
   ]
  },
  {
   "cell_type": "code",
   "execution_count": 7,
   "metadata": {},
   "outputs": [
    {
     "name": "stdout",
     "output_type": "stream",
     "text": [
      "Accuracy of plane: 55 %\n",
      "Accuracy of   car: 68 %\n",
      "Accuracy of  bird: 38 %\n",
      "Accuracy of   cat: 48 %\n",
      "Accuracy of  deer: 44 %\n",
      "Accuracy of   dog: 29 %\n",
      "Accuracy of  frog: 58 %\n",
      "Accuracy of horse: 78 %\n",
      "Accuracy of  ship: 75 %\n",
      "Accuracy of truck: 61 %\n"
     ]
    }
   ],
   "source": [
    "## 부류별 분류기의 성능도 여전히 특정 개체에 대해서만 높은 성능을 가지며,\n",
    "## 앞에서와 큰 차이가 없다고 볼 수 있습니다.\n",
    "\n",
    "for i in range(10):\n",
    "    print('Accuracy of %5s: %2d %%'%(classes[i], 100 * class_correct[i] / class_total[i]))"
   ]
  }
 ],
 "metadata": {
  "kernelspec": {
   "display_name": "Python 3",
   "language": "python",
   "name": "python3"
  },
  "language_info": {
   "codemirror_mode": {
    "name": "ipython",
    "version": 3
   },
   "file_extension": ".py",
   "mimetype": "text/x-python",
   "name": "python",
   "nbconvert_exporter": "python",
   "pygments_lexer": "ipython3",
   "version": "3.6.5"
  }
 },
 "nbformat": 4,
 "nbformat_minor": 2
}
